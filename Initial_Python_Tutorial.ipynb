{
 "cells": [
  {
   "cell_type": "markdown",
   "metadata": {},
   "source": [
    "#                        Python Programming Tutorials"
   ]
  },
  {
   "cell_type": "code",
   "execution_count": 1,
   "metadata": {
    "scrolled": true
   },
   "outputs": [],
   "source": [
    "import sys\n",
    "from datetime import datetime"
   ]
  },
  {
   "cell_type": "code",
   "execution_count": 5,
   "metadata": {
    "scrolled": true
   },
   "outputs": [
    {
     "name": "stdout",
     "output_type": "stream",
     "text": [
      "Enter Your Name : Mark\n",
      "<class 'float'>\n",
      "\n",
      "Mark is Male and 30 years old with Height 5.8  \n",
      "Gender : Male --  Age : 30\n",
      "Gender : Male --  Age : 30\n"
     ]
    }
   ],
   "source": [
    "name = input(\"Enter Your Name : \")\n",
    "age = 30  #input(\"Enter Your Age : \")\n",
    "age = int(age)\n",
    "gender = \"Male\" #input(\"Enter Your Gender : \")\n",
    "height = 5.8 #input(\"Enter your Height (e.g 5.8): \")\n",
    "\n",
    "print(type(height))\n",
    "print(\"\\n%s is %s and %d years old with Height %1.1f  \" %(name,gender,age,height))\n",
    "print(\"Gender : \" + gender + \" --  Age : \" + f\"{age}\")\n",
    "print(\"Gender : \" + gender + \" --  Age : \" + str(age))"
   ]
  },
  {
   "cell_type": "markdown",
   "metadata": {},
   "source": [
    "# Data Type : Int"
   ]
  },
  {
   "cell_type": "code",
   "execution_count": 3,
   "metadata": {},
   "outputs": [
    {
     "name": "stdout",
     "output_type": "stream",
     "text": [
      "a/b 4.0\n",
      "a//b 4\n",
      "\n",
      "\n",
      "For Loop\n",
      "i=1\n",
      "j= 1\n",
      "j= 2\n",
      "j= 3\n",
      "\n",
      "\n",
      "i=2\n",
      "j= 1\n",
      "j= 2\n",
      "j= 3\n",
      "\n",
      "\n",
      "i=3\n",
      "j= 1\n",
      "j= 2\n",
      "j= 3\n",
      "\n",
      "\n"
     ]
    }
   ],
   "source": [
    "a = 12\n",
    "b =3\n",
    "print(\"a/b\",a/b)\n",
    "print(\"a//b\",a//b)\n",
    "print(\"\\n\\nFor Loop\")\n",
    "for i in range (1, a//b):\n",
    "    print(\"i=%d\"%(i))\n",
    "    \n",
    "    #i+=1\n",
    "    \n",
    "    for j in range (1, a//b):\n",
    "        print(\"j=\",j)\n",
    "        #i+=1\n",
    "        \n",
    "    print(\"\\n\")"
   ]
  },
  {
   "cell_type": "markdown",
   "metadata": {},
   "source": [
    "# Data Type : Str and ReadFile"
   ]
  },
  {
   "cell_type": "code",
   "execution_count": 8,
   "metadata": {},
   "outputs": [
    {
     "name": "stdout",
     "output_type": "stream",
     "text": [
      "This is\n",
      "string1\n",
      "This is \\nraw_string\n",
      "*****\n",
      "This is trial string\n",
      "gnirts lairt si sihT\n",
      "gnirts lairt si si\n",
      "*****\n",
      "T\n",
      "This\n",
      "g\n",
      "This is t\n",
      "rial string\n",
      "in\n",
      "******************************\n",
      "A\n",
      "B\n",
      "C\n",
      "******************************\n",
      "A\n",
      "B\n",
      "C\n"
     ]
    }
   ],
   "source": [
    "string1 = \"This is\\nstring1\"\n",
    "raw_string = r\"This is \\nraw_string\"     # Raw String Example\n",
    "print(string1)\n",
    "print(raw_string)\n",
    "print(\"*\" * 5)\n",
    "\n",
    "string = \"This is trial string\"\n",
    "\n",
    "print(string)\n",
    "print(string[::-1])\n",
    "print(string[:1:-1])\n",
    "print(\"*\" * 5)\n",
    "\n",
    "print(string[0])\n",
    "print(string[0:4])\n",
    "print(string[-1])\n",
    "print(string[:9])\n",
    "print(string[9:])\n",
    "print(string[-3:-1])\n",
    "print(\"*\" * 30)\n",
    "\n",
    "string2 = \"ABC\"\n",
    "for char in string2:\n",
    "    print(char)\n",
    "print(\"*\" * 30)\n",
    "iter1 = iter(string2)\n",
    "print(next(iter1))\n",
    "print(next(iter1))\n",
    "print(next(iter1))\n",
    "\n"
   ]
  },
  {
   "cell_type": "markdown",
   "metadata": {},
   "source": [
    "# Data Types : Sequence  - Lists & Range"
   ]
  },
  {
   "cell_type": "code",
   "execution_count": 2,
   "metadata": {},
   "outputs": [
    {
     "name": "stdout",
     "output_type": "stream",
     "text": [
      "priority_list : ['P1', 'P2', 'P3', 'P4', 'P5']\n",
      "pri_list : ['P1', 'P2', 'P3', 'P4', 'P5', 'P6']\n",
      "<class 'list'>\n",
      "******************************\n",
      "numbers :[0, 1, 2, 3, 4]\n",
      "5\n",
      "list3 : [[1, 2, 3], [3, 4, 5]]\n",
      "list3[0] :[1, 2, 3]\n",
      "list3[0][1] : 2\n",
      "******************************\n",
      "list4 : ['1,2,3,4,5']\n",
      "list4[0] : 1,2,3,4,5\n",
      "******************************\n",
      "******************************\n",
      "range(0, 8)\n",
      "[0, 2, 4, 6]\n",
      "6\n"
     ]
    }
   ],
   "source": [
    "priority_list = [\"P1\",\"P2\",\"P3\",\"P4\"] # Square brackets are for list\n",
    "priority_list.append(\"P5\")\n",
    "print(\"priority_list : \" + f\"{priority_list}\")\n",
    "\n",
    "pri_list = priority_list  ## This is not a new list but a reference to old one\n",
    "priority_list.append(\"P6\")\n",
    "print(\"pri_list : \" + f\"{pri_list}\")\n",
    "\n",
    "print(type(priority_list))\n",
    "print(\"*\" * 30)\n",
    "\n",
    "numbers = [2,1,3,4,0]\n",
    "numbers.sort()\n",
    "print(\"numbers :\" + f\"{numbers}\")   # f is used to concatenate string with any other data type to print \n",
    "print(len(numbers))\n",
    "\n",
    "list1 = [1,2,3]\n",
    "list2= [3,4,5]\n",
    "list3 = []\n",
    "list3.append(list1)\n",
    "list3.append(list2)\n",
    "print(\"list3 : \" + f\"{list3}\")\n",
    "print(\"list3[0] :\" + f\"{list3[0]}\")\n",
    "print(\"list3[0][1] : \" + f\"{list3[0][1]}\")\n",
    "\n",
    "print(\"*\" * 30)\n",
    "string1 = '1,2,3,4,5'\n",
    "list4 = []\n",
    "list4.append(string1)\n",
    "print(\"list4 : \" + f\"{list4}\")\n",
    "print(\"list4[0] : \" + f\"{list4[0]}\")\n",
    "\n",
    "print(\"*\" * 30)\n",
    "print(\"*\" * 30)\n",
    "\n",
    "print(range(8))\n",
    "my_range = list(range(0,8,2))\n",
    "print(my_range)\n",
    "print(my_range[3])\n",
    "\n"
   ]
  },
  {
   "cell_type": "markdown",
   "metadata": {},
   "source": [
    "# Data Type : Tuples"
   ]
  },
  {
   "cell_type": "code",
   "execution_count": 5,
   "metadata": {
    "scrolled": true
   },
   "outputs": [
    {
     "name": "stdout",
     "output_type": "stream",
     "text": [
      "<class 'tuple'>\n",
      "<class 'str'>\n",
      "('a', 'b', 'c')\n",
      "('a', 'b', 'c')\n",
      "******************************\n",
      "('a', 'b', 1)\n",
      "1\n",
      "('a', 'b', 2)\n"
     ]
    }
   ],
   "source": [
    "t = \"a\",\"b\",\"c\"\n",
    "t1 = (\"a\",\"b\",\"c\")    # Tuple can be specified by giving round bracket as well\n",
    "\n",
    "print(type(t))\n",
    "print(type(t[0]))\n",
    "print(t)\n",
    "print(t1)\n",
    "print(\"*\" * 30)\n",
    "\n",
    "\n",
    "\n",
    "t = \"a\",\"b\",1   # Tuple with different data types\n",
    "print(t)\n",
    "print(t[2])\n",
    "t = t[0],t[1],2\n",
    "print(t)"
   ]
  },
  {
   "cell_type": "markdown",
   "metadata": {},
   "source": [
    "# Data Type : Dictionaries"
   ]
  },
  {
   "cell_type": "code",
   "execution_count": 4,
   "metadata": {
    "scrolled": true
   },
   "outputs": [
    {
     "name": "stdout",
     "output_type": "stream",
     "text": [
      "King of Fruits\n",
      "('Mango', 'King of Fruits')\n",
      "<class 'tuple'>\n",
      "Desc : Also Known as Lime\n",
      "Desc1 : False Key\n",
      "******************************\n",
      "{0: 1, 1: 1, 2: 0, 3: 1}\n",
      "1\n",
      "0\n",
      "{0: 1, 1: 1, 2: 0, 3: 0}\n"
     ]
    }
   ],
   "source": [
    "fruit = {\"Mango\":\"King of Fruits\",\"Lemon\":\"Also Known as Lime\"}\n",
    "print(fruit[\"Mango\"])\n",
    "f_tuple = tuple(fruit.items()) # creating tuple from dictionary. This actually creates tuple of tuples.\n",
    "print(f_tuple[0])\n",
    "print(type(f_tuple[0]))\n",
    "Desc = fruit.get(\"Lemon\")\n",
    "Desc1 = fruit.get(\"Lemons\",\"False Key\") # get method of dictionary\n",
    "print(\"Desc : \" + Desc)\n",
    "print(\"Desc1 : \" + Desc1)\n",
    "print(\"*\" * 30)\n",
    "index = {0:1,1:1,2:0,3:1}\n",
    "print(index)\n",
    "print(index[3])\n",
    "index[3] = 0\n",
    "print(index[3])\n",
    "print(index)\n"
   ]
  },
  {
   "cell_type": "markdown",
   "metadata": {},
   "source": [
    "# Data Type : Set"
   ]
  },
  {
   "cell_type": "code",
   "execution_count": 24,
   "metadata": {},
   "outputs": [
    {
     "name": "stdout",
     "output_type": "stream",
     "text": [
      "<class 'set'>\n",
      "<class 'tuple'>\n",
      "a2 : <class 'set'> : {'c', 'a', 'b'}\n",
      "{'c', 'a', 'b', 'd'}\n",
      "{'x', 'z', 'y'}\n"
     ]
    }
   ],
   "source": [
    "a = {\"a\",\"b\",\"c\"}     # Set\n",
    "# both set and dictionary are created with {} but set does not have any key and value pair but just unordered list\n",
    "a.add(\"d\")\n",
    "b = set([\"x\",\"y\",\"z\"])\n",
    "\n",
    "a1 = (\"a\",\"b\",\"c\")    # Tuple\n",
    "\n",
    "\n",
    "a2 = set(a1) # Creating set from Tuple\n",
    "\n",
    "print(type(a))\n",
    "print(type(a1))\n",
    "print(\"a2 : \"+ f\"{type(a2)} : \" + f\"{a2}\")\n",
    "\n",
    "\n",
    "print(a)\n",
    "print(b)"
   ]
  },
  {
   "cell_type": "markdown",
   "metadata": {},
   "source": [
    "# Handling Files in Python"
   ]
  },
  {
   "cell_type": "code",
   "execution_count": 48,
   "metadata": {},
   "outputs": [
    {
     "name": "stdout",
     "output_type": "stream",
     "text": [
      "1,2,3\n",
      "\n",
      "2,3,4\n",
      "\n",
      "3,4,5\n",
      "[1.0, 2.0, 3.0, 2.0, 3.0, 4.0, 3.0, 4.0, 5.0]\n",
      "******************************\n",
      "1,2,3\n",
      "\n",
      "2,3,4\n",
      "\n",
      "3,4,5\n"
     ]
    }
   ],
   "source": [
    "# 1st Option to read file\n",
    "f = open(\"textfile.txt\",'r')\n",
    "l2=[]\n",
    "\n",
    "for line in f:\n",
    "    l1 = line.split(',')\n",
    "    #print(l1)    \n",
    "    print(line)\n",
    "    #print(len(l1))\n",
    "    for j in range(0, len(l1), 1):\n",
    "        l2.append(float(l1[j]))\n",
    "print(l2)\n",
    "        \n",
    "# 2nd Option to read file\n",
    "print(\"*\" * 30)\n",
    "with open(\"textfile.txt\",'r') as f:\n",
    "    line = f.readline()\n",
    "    while line:\n",
    "        print(line)\n",
    "        line = f.readline()\n",
    "    \n"
   ]
  },
  {
   "cell_type": "code",
   "execution_count": null,
   "metadata": {},
   "outputs": [],
   "source": []
  }
 ],
 "metadata": {
  "kernelspec": {
   "display_name": "Python 3",
   "language": "python",
   "name": "python3"
  },
  "language_info": {
   "codemirror_mode": {
    "name": "ipython",
    "version": 3
   },
   "file_extension": ".py",
   "mimetype": "text/x-python",
   "name": "python",
   "nbconvert_exporter": "python",
   "pygments_lexer": "ipython3",
   "version": "3.7.3"
  }
 },
 "nbformat": 4,
 "nbformat_minor": 2
}
