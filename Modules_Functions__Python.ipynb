{
 "cells": [
  {
   "cell_type": "markdown",
   "metadata": {},
   "source": [
    "# Python Modules"
   ]
  },
  {
   "cell_type": "code",
   "execution_count": 5,
   "metadata": {},
   "outputs": [],
   "source": [
    "import webbrowser as wb\n",
    "import time\n",
    "import datetime\n",
    "from time import time as my_timer\n",
    "import os"
   ]
  },
  {
   "cell_type": "code",
   "execution_count": 53,
   "metadata": {},
   "outputs": [
    {
     "name": "stdout",
     "output_type": "stream",
     "text": [
      "['In', 'Out', '_', '__', '___', '__builtin__', '__builtins__', '__doc__', '__loader__', '__name__', '__package__', '__spec__', '_dh', '_i', '_i1', '_i10', '_i11', '_i12', '_i13', '_i14', '_i15', '_i16', '_i17', '_i18', '_i19', '_i2', '_i20', '_i21', '_i22', '_i23', '_i24', '_i25', '_i26', '_i27', '_i28', '_i29', '_i3', '_i30', '_i31', '_i32', '_i33', '_i34', '_i35', '_i36', '_i37', '_i38', '_i39', '_i4', '_i40', '_i41', '_i42', '_i43', '_i44', '_i45', '_i46', '_i47', '_i48', '_i49', '_i5', '_i50', '_i51', '_i52', '_i53', '_i6', '_i7', '_i8', '_i9', '_ih', '_ii', '_iii', '_oh', 'button1', 'button2', 'canvas', 'exit', 'get_ipython', 'mainWindow', 'my_timer', 'python_food', 'quit', 'time', 'tkinter', 'wb']\n"
     ]
    }
   ],
   "source": [
    "print(dir())\n",
    "#print(dir(__builtin__))"
   ]
  },
  {
   "cell_type": "code",
   "execution_count": 54,
   "metadata": {},
   "outputs": [
    {
     "name": "stdout",
     "output_type": "stream",
     "text": [
      "1590881274.927718\n",
      "time.struct_time(tm_year=2020, tm_mon=5, tm_mday=30, tm_hour=19, tm_min=27, tm_sec=54, tm_wday=5, tm_yday=151, tm_isdst=1)\n"
     ]
    }
   ],
   "source": [
    "# wb.open(\"https://www.python.org/\")    # This opens the web browser with specified link\n",
    "#help(wb)\n",
    "print(time.time())\n",
    "\n",
    "print(time.localtime())\n"
   ]
  },
  {
   "cell_type": "code",
   "execution_count": 55,
   "metadata": {},
   "outputs": [
    {
     "name": "stdout",
     "output_type": "stream",
     "text": [
      "Press Enter to start timer\n",
      "Press Enter to Stop\n",
      "Your Reaction Time was 0.16000914573669434 seconds.\n"
     ]
    }
   ],
   "source": [
    "input(\"Press Enter to start timer\")\n",
    "#wait_time = random.randint(1,6)\n",
    "\n",
    "start_time = my_timer()\n",
    "input(\"Press Enter to Stop\")\n",
    "end_time = my_timer()\n",
    "\n",
    "print(\"Your Reaction Time was {} seconds.\".format(end_time - start_time))"
   ]
  },
  {
   "cell_type": "markdown",
   "metadata": {},
   "source": [
    "# Tkinter"
   ]
  },
  {
   "cell_type": "code",
   "execution_count": 56,
   "metadata": {},
   "outputs": [],
   "source": [
    "import tkinter\n",
    "\n",
    "#tkinter._test()\n",
    "mainWindow = tkinter.Tk()\n",
    "mainWindow.title(\"Hello World Tkinter\")\n",
    "#mainWindow.geometry('640*480+8+400') # This is not working\n",
    "canvas=tkinter.Canvas(mainWindow,relief='raised',borderwidth=2)\n",
    "canvas.pack(side='left')\n",
    "button1=tkinter.Button(mainWindow,text=\"Button1\")\n",
    "button2=tkinter.Button(mainWindow,text=\"Button2\")\n",
    "button1.pack(side='top',anchor='n')\n",
    "button2.pack(side='left',anchor='s')\n",
    "mainWindow.mainloop()"
   ]
  },
  {
   "cell_type": "markdown",
   "metadata": {},
   "source": [
    "# Functions"
   ]
  },
  {
   "cell_type": "code",
   "execution_count": 7,
   "metadata": {},
   "outputs": [
    {
     "name": "stdout",
     "output_type": "stream",
     "text": [
      "Test1\n",
      "{'text': 'Test1'}\n",
      "2\n",
      "123\n",
      "{'text': 123}\n",
      "2\n",
      "{'fail', 'success'}\n",
      "****\n",
      "2\n",
      "b\n",
      "('a', 'b')\n",
      "x\n",
      "('x',)\n",
      "()\n"
     ]
    }
   ],
   "source": [
    "global_check = 0\n",
    "\n",
    "def python_function(text):\n",
    "    print(text)\n",
    "    global global_check\n",
    "    global_check = 2\n",
    "    print(locals())\n",
    "    print(global_check)\n",
    "    return {'success','fail'}\n",
    "\n",
    "python_function(\"Test1\")\n",
    "print(python_function(123))\n",
    "print(\"****\")\n",
    "\n",
    "print(global_check)\n",
    "\n",
    "\n",
    "def multi_prmt(*args):\n",
    "    if len(args) == 1:\n",
    "        print(args[0])\n",
    "    if len(args)>1:\n",
    "        print(args[1])\n",
    "    return args\n",
    "        \n",
    "print(multi_prmt(\"a\",\"b\"))\n",
    "print(multi_prmt(\"x\"))\n",
    "print(multi_prmt())\n"
   ]
  },
  {
   "cell_type": "code",
   "execution_count": 4,
   "metadata": {},
   "outputs": [
    {
     "name": "stdout",
     "output_type": "stream",
     "text": [
      "['Initial_Python_Tutorial.ipynb', 'Modules_Functions_OOPS_Lambda_Packages_Python.ipynb', 'textfile.txt']\n",
      "['Initial_Python_Tutorial-checkpoint.ipynb', 'Modules_Functions_OOPS_Lambda_Packages_Python-checkpoint.ipynb']\n"
     ]
    }
   ],
   "source": [
    "listing = os.walk('.')\n",
    "\n",
    "for root,directories,files in listing:\n",
    "    \n",
    "    print(files)\n",
    "    "
   ]
  },
  {
   "cell_type": "code",
   "execution_count": 6,
   "metadata": {},
   "outputs": [
    {
     "name": "stdout",
     "output_type": "stream",
     "text": [
      "8\n",
      "8\n"
     ]
    }
   ],
   "source": [
    "a = 2\n",
    "b = 6\n",
    "print(a+b)\n",
    "print(a.__add__(b))"
   ]
  },
  {
   "cell_type": "markdown",
   "metadata": {},
   "source": [
    "# Object Oriented Programming"
   ]
  },
  {
   "cell_type": "markdown",
   "metadata": {},
   "source": [
    "# -----------------------------\n",
    "# 1 : Class"
   ]
  },
  {
   "cell_type": "code",
   "execution_count": 51,
   "metadata": {},
   "outputs": [
    {
     "name": "stdout",
     "output_type": "stream",
     "text": [
      "Row House\n",
      "2000\n",
      "2 BHK\n",
      "*****\n",
      "2100\n",
      "True\n",
      "<class '__main__.house'>\n",
      "*****\n",
      "Before changing values of area : \n",
      "Alaska  Alaska\n",
      "After changing values of area : \n",
      "NJ\n",
      "Alaska\n",
      "Second Change : \n",
      "NJ\n",
      "NJ-NJ\n",
      "Third Change:\n",
      "NJ\n",
      "New Jersey\n",
      "Alaska\n",
      "NJ\n",
      "New Jersey\n"
     ]
    }
   ],
   "source": [
    "class house(object):\n",
    "    \n",
    "    area = 'Alaska'\n",
    "    \n",
    "    \n",
    "    def __init__(self,type,price):    #this is method as self parameter is added automatically. \n",
    "                                      #Functions do not have self parameter\n",
    "        self.type = type\n",
    "        self.price = price\n",
    "        self.bhk = \"2 BHK\"\n",
    "        \n",
    "             \n",
    "    \n",
    "searing = house(\"Row House\",2000)\n",
    "hamilton = house(\"Apartment\",1000)\n",
    "\n",
    "print(searing.type)\n",
    "print(searing.price)\n",
    "print(searing.bhk)\n",
    "print(\"*\" * 5)\n",
    "searing.available = True\n",
    "searing.price = 2100\n",
    "print(searing.price) \n",
    "print(searing.available)\n",
    "print(type(searing))\n",
    "print(\"*\" * 5)\n",
    "#\n",
    "print(\"Before changing values of area : \")\n",
    "print(searing.area + \"  \" + hamilton.area)\n",
    "print(\"After changing values of area : \")\n",
    "searing.area = \"NJ\"\n",
    "print(searing.area)\n",
    "print(hamilton.area)\n",
    "#\n",
    "print(\"Second Change : \")\n",
    "hamilton.area = \"NJ-NJ\"\n",
    "print(searing.area)\n",
    "print(hamilton.area)\n",
    "print(\"Third Change:\")\n",
    "hamilton.area = \"New Jersey\"\n",
    "print(searing.area)\n",
    "print(hamilton.area)\n",
    "\n",
    "cleveland = house(\"Bunglow\",5000)\n",
    "print(cleveland.area)\n",
    "print(searing.area)\n",
    "print(hamilton.area)"
   ]
  },
  {
   "cell_type": "markdown",
   "metadata": {},
   "source": [
    "# Static Method"
   ]
  },
  {
   "cell_type": "code",
   "execution_count": 6,
   "metadata": {
    "scrolled": false
   },
   "outputs": [
    {
     "name": "stdout",
     "output_type": "stream",
     "text": [
      "{'acc_name': 'keval', '_Account__acc_bal': 21000, 'created_at': datetime.datetime(2020, 6, 15, 20, 7, 24, 314008)}\n",
      "Account_name :keval\n",
      "Created_on : 2020-06-15 20:07:24.314008\n",
      "Balance : 21000\n"
     ]
    }
   ],
   "source": [
    "class Account:\n",
    "    \"\"\"This is dostring\n",
    "       We can create an account and withdraw and deposit money \"\"\"\n",
    "    #there is no self keyword used in command for static method\n",
    "    # Generally static methods are accessed within the class and not with an instance as such directly\n",
    "    @staticmethod         \n",
    "    def _curr_time():\n",
    "        utcnow = datetime.datetime.utcnow()\n",
    "        #print(utcnow)\n",
    "        #print(time.localtime())\n",
    "        return utcnow\n",
    "    \n",
    "            \n",
    "    def __init__(self,acc_name):\n",
    "        \"\"\"Initializes the account with given name\n",
    "        Args : acc_name = Account name \"\"\"\n",
    "        self.acc_name = acc_name\n",
    "        self.__acc_bal = 0    # Mangling. This variable is nonpublic and is saved as \"_Account__acc_bal\" : \n",
    "                              #This can be accessed from class instance but does not make any sense to do that\n",
    "        self.created_at = Account._curr_time()\n",
    "        \n",
    "        \n",
    "    def deposit(self,acc_name,amount):\n",
    "        self.__acc_bal += amount\n",
    "\n",
    "\n",
    "keval = Account(\"keval\")\n",
    "keval.deposit(\"keval\",500)\n",
    "keval.deposit(\"keval\",500)\n",
    "keval.deposit(\"keval\",20000)\n",
    "#keval.__acc_bal = 8000000 # this creates new attribute with __acc_bal. \n",
    "print(keval.__dict__)\n",
    "print(\"Account_name :\" + keval.acc_name + \"\\nCreated_on : \" +  \n",
    " str(keval.created_at) + \"\\nBalance : \" + str(keval._Account__acc_bal))"
   ]
  },
  {
   "cell_type": "code",
   "execution_count": 36,
   "metadata": {},
   "outputs": [
    {
     "name": "stdout",
     "output_type": "stream",
     "text": [
      "ZZ Top Mescalero 2003 Liquor\n"
     ]
    }
   ],
   "source": [
    "def load_data():\n",
    "    new_artist = None\n",
    "    new_albums = None\n",
    "    artist_list = []\n",
    "    \n",
    "    with open(\"D://Technical//Python//Object-Oriented-Python-Artist-class-and-import-Albums-Source-code//albums.txt\",'r') as album:\n",
    "        for line in album:\n",
    "            #print(line)\n",
    "            t = tuple(line.strip('\\n').split('\\t'))\n",
    "            artist,album,year,song = tuple(line.strip('\\n').split('\\t'))\n",
    "            year = int(year)\n",
    "            #print(artist,album,year,song)\n",
    "            \n",
    "    print(artist,album,year,song)        \n",
    "       \n",
    "if __name__ == \"__main__\":\n",
    "    load_data()"
   ]
  },
  {
   "cell_type": "code",
   "execution_count": null,
   "metadata": {},
   "outputs": [],
   "source": []
  }
 ],
 "metadata": {
  "kernelspec": {
   "display_name": "Python 3",
   "language": "python",
   "name": "python3"
  },
  "language_info": {
   "codemirror_mode": {
    "name": "ipython",
    "version": 3
   },
   "file_extension": ".py",
   "mimetype": "text/x-python",
   "name": "python",
   "nbconvert_exporter": "python",
   "pygments_lexer": "ipython3",
   "version": "3.7.3"
  }
 },
 "nbformat": 4,
 "nbformat_minor": 2
}
